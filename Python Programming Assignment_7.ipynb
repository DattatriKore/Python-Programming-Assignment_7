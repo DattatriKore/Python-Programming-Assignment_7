{
 "cells": [
  {
   "cell_type": "code",
   "execution_count": 5,
   "id": "a40a2d09",
   "metadata": {},
   "outputs": [
    {
     "name": "stdout",
     "output_type": "stream",
     "text": [
      "The sum of arry is: 56\n"
     ]
    }
   ],
   "source": [
    "# Q.[1] : Write a Python Program to find sum of array?\n",
    "\n",
    "def sum_of_arry(arr):\n",
    "    sum = 0\n",
    "    n = len(arr)\n",
    "    for i in range(n):\n",
    "        sum = sum + arr[i]\n",
    "    return sum\n",
    "\n",
    "v = [20,24,29,33,38,44,50]\n",
    "print(f\"The sum of arry is: {sum_of_arry(a)}\")"
   ]
  },
  {
   "cell_type": "code",
   "execution_count": 15,
   "id": "69a94f15",
   "metadata": {},
   "outputs": [
    {
     "name": "stdout",
     "output_type": "stream",
     "text": [
      "The largest element of array is: 50\n"
     ]
    }
   ],
   "source": [
    "# Q.[2] : Write a Python Program to find largest element in an array?\n",
    "\n",
    "def maxofarray(arr):\n",
    "    max = a[0]\n",
    "    n = len(arr)\n",
    "    for i in range(n):\n",
    "        if max < arr[i]:\n",
    "            max = arr[i]\n",
    "    return max\n",
    "v = [20,24,29,33,38,44,50]\n",
    "print(f\"The largest element of array is: {maxofarray(v)}\")"
   ]
  },
  {
   "cell_type": "code",
   "execution_count": 22,
   "id": "999f5f00",
   "metadata": {},
   "outputs": [
    {
     "name": "stdout",
     "output_type": "stream",
     "text": [
      "Array after Rotation is: [4, 5, 6, 7, 8, 9, 10, 1, 2, 3]\n"
     ]
    }
   ],
   "source": [
    "# Q.[3] : Write a Python Program for array rotation?\n",
    "\n",
    "def rotateArray(a,d):\n",
    "    temp = []\n",
    "    n = len (a)\n",
    "    for i in range(d,n):\n",
    "        temp.append(a[i])\n",
    "    i = 0\n",
    "    for i in range(0,d):\n",
    "        temp.append(a[i])\n",
    "    a = temp.copy()\n",
    "    return a\n",
    "\n",
    "arr = [1,2,3,4,5,6,7,8,9,10]\n",
    "print(f\"Array after Rotation is: {rotateArray(arr,3)}\")"
   ]
  },
  {
   "cell_type": "code",
   "execution_count": 24,
   "id": "79dcba1b",
   "metadata": {},
   "outputs": [
    {
     "name": "stdout",
     "output_type": "stream",
     "text": [
      "5 45 25 10 20 24 "
     ]
    }
   ],
   "source": [
    "# Q.[4] : Write a Python Program to Split the array and add the first part to the end?\n",
    "\n",
    "def splitArray(arr,n ,k):\n",
    "    for i in range(0,k):\n",
    "        x = arr[0]\n",
    "        for j in range(0,n-1):\n",
    "            arr[j] = arr[j + 1]\n",
    "        arr[n -1] = x \n",
    "        \n",
    "arr = [10,20,24,5,45,25]\n",
    "n = len(arr)\n",
    "position = 3\n",
    "\n",
    "splitArray(arr,n,position)\n",
    "\n",
    "for i in range(0,n):\n",
    "    print(arr[i], end = \" \")"
   ]
  },
  {
   "cell_type": "code",
   "execution_count": 26,
   "id": "99202e6e",
   "metadata": {},
   "outputs": [
    {
     "name": "stdout",
     "output_type": "stream",
     "text": [
      "True\n"
     ]
    }
   ],
   "source": [
    "# Q.[5] : Write a Python Program to check if given array is Monotonic?\n",
    "\n",
    "def isMonotonic(A):\n",
    "    x, y = [], []\n",
    "    x.extend(A)\n",
    "    y.extend(A)\n",
    "    x.sort()\n",
    "    y.sort(reverse=True)\n",
    "    \n",
    "    if(x == A or y == A):\n",
    "        return True\n",
    "    return False\n",
    "\n",
    "A = [6, 5, 4, 4]\n",
    "\n",
    "print(isMonotonic(A))"
   ]
  },
  {
   "cell_type": "code",
   "execution_count": null,
   "id": "31837abe",
   "metadata": {},
   "outputs": [],
   "source": []
  }
 ],
 "metadata": {
  "kernelspec": {
   "display_name": "Python 3 (ipykernel)",
   "language": "python",
   "name": "python3"
  },
  "language_info": {
   "codemirror_mode": {
    "name": "ipython",
    "version": 3
   },
   "file_extension": ".py",
   "mimetype": "text/x-python",
   "name": "python",
   "nbconvert_exporter": "python",
   "pygments_lexer": "ipython3",
   "version": "3.9.12"
  }
 },
 "nbformat": 4,
 "nbformat_minor": 5
}
